{
 "cells": [
  {
   "cell_type": "markdown",
   "metadata": {},
   "source": [
    "# Microbiome\n",
    "\n",
    "The data showed in the this notebook is gathered and assembled from the human skin micriobiome.\n",
    "The data repressents the difference of the amount of species living on the skin before and after the apllication of a specific prebiotic. in this case the prebiotic was FOS.\n",
    "The data shows the amount of bacterial species ranging from week 0 (the baseline) to week 2.\n",
    "The sample points are split up in two different face sides. Repressented as control and active side. \n",
    "\n",
    "data:\n",
    "\n",
    "\n",
    "    Name coloumm = The name of the species \n",
    "    \n",
    "    columns = specific side if the face (acitve or control) per week and per subject\n",
    " \n",
    "first we start with loading in the data\n",
    "    \n",
    " "
   ]
  },
  {
   "cell_type": "code",
   "execution_count": 51,
   "metadata": {},
   "outputs": [],
   "source": [
    "# importing all the modules\n",
    "import pandas as pd # for handeling the dataframe\n",
    "from ipywidgets import widgets, interactive # for making it interactive\n",
    "import matplotlib.pyplot as plt  # for plotting later\n",
    "\n",
    "df_microbiome = pd.read_csv(\"/homes/memartinus/Desktop/data/data_percent.csv\") # loading in the data \n"
   ]
  },
  {
   "cell_type": "markdown",
   "metadata": {},
   "source": [
    "# Inspectation and data wrangling\n",
    "\n",
    "As shown above the rows show the name amount of the bacteria per person from week one till week 3 per subject.\n",
    "This is a lot of data so for that reason im only taking subject 1 to visualise.\n",
    "also there are a lot of NAN values I will be dropping those NAN values.\n",
    "we will be substractin a small portion of the data to work with. thos portion will also be getting different column names.\n"
   ]
  },
  {
   "cell_type": "code",
   "execution_count": 73,
   "metadata": {},
   "outputs": [
    {
     "name": "stdout",
     "output_type": "stream",
     "text": [
      "there are 0 found within the microbiome dataframe\n"
     ]
    },
    {
     "data": {
      "text/html": [
       "<div>\n",
       "<style scoped>\n",
       "    .dataframe tbody tr th:only-of-type {\n",
       "        vertical-align: middle;\n",
       "    }\n",
       "\n",
       "    .dataframe tbody tr th {\n",
       "        vertical-align: top;\n",
       "    }\n",
       "\n",
       "    .dataframe thead th {\n",
       "        text-align: right;\n",
       "    }\n",
       "</style>\n",
       "<table border=\"1\" class=\"dataframe\">\n",
       "  <thead>\n",
       "    <tr style=\"text-align: right;\">\n",
       "      <th></th>\n",
       "      <th>Species</th>\n",
       "      <th>baseline_left</th>\n",
       "      <th>baseline_right</th>\n",
       "      <th>week1_fos</th>\n",
       "      <th>week1_control</th>\n",
       "      <th>week2_FOS</th>\n",
       "      <th>week2_control</th>\n",
       "    </tr>\n",
       "  </thead>\n",
       "  <tbody>\n",
       "    <tr>\n",
       "      <th>0</th>\n",
       "      <td>Cutibacterium acnes</td>\n",
       "      <td>90.93</td>\n",
       "      <td>59.16</td>\n",
       "      <td>74.51</td>\n",
       "      <td>65.54</td>\n",
       "      <td>67.03</td>\n",
       "      <td>43.93</td>\n",
       "    </tr>\n",
       "    <tr>\n",
       "      <th>2</th>\n",
       "      <td>Staphylococcus epidermidis</td>\n",
       "      <td>2.55</td>\n",
       "      <td>10.09</td>\n",
       "      <td>5.14</td>\n",
       "      <td>8.55</td>\n",
       "      <td>7.48</td>\n",
       "      <td>14.26</td>\n",
       "    </tr>\n",
       "    <tr>\n",
       "      <th>3</th>\n",
       "      <td>Staphylococcus hominis</td>\n",
       "      <td>0.26</td>\n",
       "      <td>2.68</td>\n",
       "      <td>2.94</td>\n",
       "      <td>2.55</td>\n",
       "      <td>1.86</td>\n",
       "      <td>2.70</td>\n",
       "    </tr>\n",
       "    <tr>\n",
       "      <th>4</th>\n",
       "      <td>Staphylococcus auricularis</td>\n",
       "      <td>0.32</td>\n",
       "      <td>1.28</td>\n",
       "      <td>0.75</td>\n",
       "      <td>1.06</td>\n",
       "      <td>1.20</td>\n",
       "      <td>1.95</td>\n",
       "    </tr>\n",
       "    <tr>\n",
       "      <th>6</th>\n",
       "      <td>Staphylococcus warneri</td>\n",
       "      <td>0.18</td>\n",
       "      <td>0.89</td>\n",
       "      <td>0.44</td>\n",
       "      <td>0.67</td>\n",
       "      <td>0.64</td>\n",
       "      <td>1.07</td>\n",
       "    </tr>\n",
       "    <tr>\n",
       "      <th>12</th>\n",
       "      <td>Haemophilus parainfluenzae</td>\n",
       "      <td>0.01</td>\n",
       "      <td>0.56</td>\n",
       "      <td>0.74</td>\n",
       "      <td>1.12</td>\n",
       "      <td>0.55</td>\n",
       "      <td>1.16</td>\n",
       "    </tr>\n",
       "  </tbody>\n",
       "</table>\n",
       "</div>"
      ],
      "text/plain": [
       "                       Species  baseline_left  baseline_right  week1_fos  \\\n",
       "0          Cutibacterium acnes          90.93           59.16      74.51   \n",
       "2   Staphylococcus epidermidis           2.55           10.09       5.14   \n",
       "3       Staphylococcus hominis           0.26            2.68       2.94   \n",
       "4   Staphylococcus auricularis           0.32            1.28       0.75   \n",
       "6       Staphylococcus warneri           0.18            0.89       0.44   \n",
       "12  Haemophilus parainfluenzae           0.01            0.56       0.74   \n",
       "\n",
       "    week1_control  week2_FOS  week2_control  \n",
       "0           65.54      67.03          43.93  \n",
       "2            8.55       7.48          14.26  \n",
       "3            2.55       1.86           2.70  \n",
       "4            1.06       1.20           1.95  \n",
       "6            0.67       0.64           1.07  \n",
       "12           1.12       0.55           1.16  "
      ]
     },
     "execution_count": 73,
     "metadata": {},
     "output_type": "execute_result"
    }
   ],
   "source": [
    "NAN_values= df_microbiome.isnull().sum().sum() # counting the amount of NAN pressent in the dataframe\n",
    "\n",
    "print(f\"there are {NAN_values} found within the microbiome dataframe\")\n",
    "df_microbiome = df_microbiome.dropna() # set NAN values to 0 so that we can use them later.\n",
    "\n",
    "df_microbiome = df_microbiome.iloc[:, :7] # filter out subject. so the first 7 columns and all the rows\n",
    "df_microbiome = df_microbiome.rename(columns={\"Name\": \"Species\", \"Obj01_a_week0\": \"baseline_left\",\"Obj01_b_week0\":\"baseline_right\",\n",
    "                                              \"Obj01_FOS_week1\":\"week1_fos\",\"Obj01_Control_week1\":\"week1_control\",\n",
    "                                              \"Obj01_FOS_week2\":\"week2_FOS\",\"Obj01_Control_week2\":\"week2_control\"}) # renaming the columns because we only working with one subject this makes it easier to read\n",
    "df_microbiome"
   ]
  },
  {
   "cell_type": "markdown",
   "metadata": {},
   "source": [
    "check the types of the rows so that everything checks outl meaing that every column should be and float\n"
   ]
  },
  {
   "cell_type": "code",
   "execution_count": 69,
   "metadata": {},
   "outputs": [
    {
     "name": "stdout",
     "output_type": "stream",
     "text": [
      "the types are Species            object\n",
      "baseline_left     float64\n",
      "baseline_right    float64\n",
      "week1_fos         float64\n",
      "week1_control     float64\n",
      "week2_FOS         float64\n",
      "week2_control     float64\n",
      "dtype: object\n",
      "the size of the dataframe is now 42\n"
     ]
    }
   ],
   "source": [
    "types = df_microbiome.dtypes # save the types in variable to print later\n",
    "size = df_microbiome.size # print the size in variable to print later\n",
    "\n",
    "print(f\"the types are {types}\")\n",
    "print(f\"the size of the dataframe is now {size}\")"
   ]
  },
  {
   "cell_type": "markdown",
   "metadata": {},
   "source": [
    "# Plotting\n",
    "\n",
    "for the plotting we will be making two types of graphs.\n",
    "The first one is bar plot to show all the species and their abundance.\n",
    "The second one is a line graph to see the increas or decreasment of the species overtime.\n"
   ]
  },
  {
   "cell_type": "code",
   "execution_count": 79,
   "metadata": {},
   "outputs": [
    {
     "data": {
      "application/vnd.jupyter.widget-view+json": {
       "model_id": "fdd305217a4f4f5480b08d5f41a3c719",
       "version_major": 2,
       "version_minor": 0
      },
      "text/plain": [
       "interactive(children=(Dropdown(description='time points:', options=('baseline_right', 'week1_control', 'week2_…"
      ]
     },
     "metadata": {},
     "output_type": "display_data"
    },
    {
     "data": {
      "application/vnd.jupyter.widget-view+json": {
       "model_id": "a51aefa0ac7d4973aabf97b232439762",
       "version_major": 2,
       "version_minor": 0
      },
      "text/plain": [
       "interactive(children=(Dropdown(description='time points:', options=('baseline_left', 'week1_fos', 'week2_FOS')…"
      ]
     },
     "metadata": {},
     "output_type": "display_data"
    }
   ],
   "source": [
    "columns_names_controlles = [\"baseline_right\", \"week1_control\", \"week2_control\"] # all the columns that are respersenting the control\n",
    "columns_names_active_ingredient = [\"baseline_left\", \"week1_fos\", \"week2_FOS\"] # all the active ingredient columns\n",
    "\n",
    "\n",
    "dropdown_control =widgets.Dropdown(\n",
    "    options=columns_names_controlles,\n",
    "    value=columns_names_controlles [0],\n",
    "    description='time points:',\n",
    ") # dropdown menu for the time point controlles\n",
    "\n",
    "dropdown_active=widgets.Dropdown(\n",
    "    options=columns_names_active_ingredient,\n",
    "    value=columns_names_active_ingredient[0],\n",
    "    description='time points:',\n",
    ") # dropdown menu for the time point sctive \n",
    "\n",
    "\n",
    "\n",
    "# plotting the data in a simple bar plot\n",
    "# The function just takes data with a varible name to plot with matplotlib\n",
    "def plotting(column_names_controlles):\n",
    "    \"\"\"\n",
    "    plotting plots the variables \n",
    "    given within a pandas dataframe\n",
    "    \n",
    "    coloumns_names = list of names as ipywidgets dropdown slider\n",
    "    \"\"\"\n",
    "    placement = list(df_microbiome[column_names_controlles])\n",
    "    species = list(df_microbiome[\"Species\"])\n",
    "    \n",
    "    # plotting the bar chart\n",
    "    plt.bar(species,placement,color = \"darkgrey\")\n",
    "    plt.title(\"Species abundance per week: control sides\")\n",
    "    plt.xticks(rotation=30, ha='right')\n",
    "    plt.ylabel(\"abundance in percentage\")\n",
    "    \n",
    "    \n",
    "# plotting the data in a simple bar plot for the active ingredient side\n",
    "def plotting_active(column_names_active_ingredient):\n",
    "    \"\"\"\n",
    "    plotting plots the variables \n",
    "    given within a pandas dataframe\n",
    "    \n",
    "    coloumns_names = list of names as ipywidgets dropdown slider\n",
    "    \"\"\"\n",
    "    placement = list(df_microbiome[column_names_active_ingredient])\n",
    "    species = list(df_microbiome[\"Species\"])\n",
    "    \n",
    "    # plotting the bar chart\n",
    "    plt.bar(species,placement,color = \"darkgrey\")\n",
    "    plt.title(\"Species abundance per week: active side\")\n",
    "    plt.xticks(rotation=30, ha='right')\n",
    "    plt.ylabel(\"abundance in percentage\")\n",
    "    \n",
    "\n",
    "    \n",
    "\n",
    "out1 = interactive(plotting,column_names_controlles=dropdown_control) # combine the function and slider togheter to make the plot interactive\n",
    "out2 = interactive(plotting_active,column_names_active_ingredient = dropdown_active)\n",
    "\n",
    "display(out1)# display function to show the plot\n",
    "display(out2)# display function to show the plot\n",
    "\n"
   ]
  },
  {
   "cell_type": "markdown",
   "metadata": {},
   "source": [
    "### line graph\n",
    "We can make a line graph per species. To do this we need to transform the data so that the species become the\n",
    "columns and the weeks become the row.\n",
    "after that we can split the data into two data frame (control and active).\n",
    "if we then change the row names to week numbers we can plot the data with matplotlib and use a dropdown menu to select wich species you want to see"
   ]
  },
  {
   "cell_type": "code",
   "execution_count": 130,
   "metadata": {},
   "outputs": [
    {
     "data": {
      "application/vnd.jupyter.widget-view+json": {
       "model_id": "05eed87df34e40d69fac8e6e2d48760a",
       "version_major": 2,
       "version_minor": 0
      },
      "text/plain": [
       "interactive(children=(Dropdown(description='species:', options=('Cutibacterium acnes', 'Staphylococcus epiderm…"
      ]
     },
     "metadata": {},
     "output_type": "display_data"
    }
   ],
   "source": [
    "species = list(df_microbiome[\"Species\"]) # list of the species whithin the data frame\n",
    "\n",
    "control_dataframe = df_microbiome[[\"Species\",\"baseline_right\", \"week1_control\", \"week2_control\"]] # create new dataframe with onlt the control sides\n",
    "active_dataframe = df_microbiome[[\"Species\",\"baseline_left\", \"week1_fos\", \"week2_FOS\"]] # create new dataframe with only the active side\n",
    "\n",
    "active_dataframe=active_dataframe.set_index(\"Species\").T # transpose the dataframe so that the species are the columns and set the index as species name\n",
    "control_dataframe=control_dataframe.set_index(\"Species\").T\n",
    "\n",
    "active_dataframe=active_dataframe.rename(index={\"baseline_left\": 1, \"week1_fos\": 2, \"week2_FOS\": 3}) # change the index to numbers to repressent the amount of weeks\n",
    "control_dataframe=control_dataframe.rename(index={\"baseline_right\": 1, \"week1_control\": 2, \"week2_control\": 3}) # change the index to numbers to repressent the amount of weeks\n",
    "                                         \n",
    "#dropdown slider for selcting the species\n",
    "dropdown_species=widgets.Dropdown(\n",
    "    options=species,\n",
    "    value=species[0],\n",
    "    description='species:',\n",
    ") \n",
    "\n",
    "\n",
    "#plot the data using matplotlib\n",
    "def plot_line(species_name):\n",
    "    \n",
    "    \"\"\"\n",
    "    plots_line is a function that plots a line\n",
    "    \n",
    "    inputs: \n",
    "            species_name = a dropslider to select the species name\n",
    "        \n",
    "    return plot\n",
    "    \"\"\"\n",
    "    # all the setting for the plot\n",
    "    plt.plot(active_dataframe[species_name],color = \"blue\",label = \"Active side\")\n",
    "    plt.plot(control_dataframe[species_name],color = \"red\", label = \"Control side\")\n",
    "    plt.title(\"Species percentage overtime\")\n",
    "    plt.ylabel(\"species percantage\")\n",
    "    plt.xlabel(\"Time in weeks\")\n",
    "    plt.xticks(rotation=30, ha='right')\n",
    "    plt.legend(loc=\"best\")\n",
    "    \n",
    "    \n",
    "plot = interactive(plot_line, species_name = dropdown_species) # combining the dropdown with the functions\n",
    "\n",
    "display(plot)#show the function\n",
    "        \n"
   ]
  }
 ],
 "metadata": {
  "kernelspec": {
   "display_name": "Python 3 (ipykernel)",
   "language": "python",
   "name": "python3"
  },
  "language_info": {
   "codemirror_mode": {
    "name": "ipython",
    "version": 3
   },
   "file_extension": ".py",
   "mimetype": "text/x-python",
   "name": "python",
   "nbconvert_exporter": "python",
   "pygments_lexer": "ipython3",
   "version": "3.10.8"
  }
 },
 "nbformat": 4,
 "nbformat_minor": 2
}
